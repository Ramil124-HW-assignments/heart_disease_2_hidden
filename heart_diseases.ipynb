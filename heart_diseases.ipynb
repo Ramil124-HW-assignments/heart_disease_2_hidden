{
 "cells": [
  {
   "cell_type": "markdown",
   "id": "e5375e25",
   "metadata": {},
   "source": [
    "## Python Week 9 HW"
   ]
  },
  {
   "cell_type": "code",
   "execution_count": 69,
   "id": "531fb37b",
   "metadata": {},
   "outputs": [],
   "source": [
    "import pandas as pd\n",
    "import numpy as np\n",
    "import matplotlib.pyplot as plt\n",
    "import seaborn as sns\n",
    "import os"
   ]
  },
  {
   "cell_type": "code",
   "execution_count": 70,
   "id": "c01ee2d3",
   "metadata": {},
   "outputs": [],
   "source": [
    "os.chdir('D:\\Data analysis\\DataScience Academy\\Python course\\Week 9')"
   ]
  },
  {
   "cell_type": "code",
   "execution_count": 71,
   "id": "b3dd2dc2",
   "metadata": {
    "scrolled": true
   },
   "outputs": [
    {
     "data": {
      "text/html": [
       "<div>\n",
       "<style scoped>\n",
       "    .dataframe tbody tr th:only-of-type {\n",
       "        vertical-align: middle;\n",
       "    }\n",
       "\n",
       "    .dataframe tbody tr th {\n",
       "        vertical-align: top;\n",
       "    }\n",
       "\n",
       "    .dataframe thead th {\n",
       "        text-align: right;\n",
       "    }\n",
       "</style>\n",
       "<table border=\"1\" class=\"dataframe\">\n",
       "  <thead>\n",
       "    <tr style=\"text-align: right;\">\n",
       "      <th></th>\n",
       "      <th>age</th>\n",
       "      <th>sex</th>\n",
       "      <th>chest_pain_type</th>\n",
       "      <th>resting_blood_pressure</th>\n",
       "      <th>cholesterol</th>\n",
       "      <th>fasting_blood_sugar</th>\n",
       "      <th>rest_ecg</th>\n",
       "      <th>max_heart_rate_achieved</th>\n",
       "      <th>exercise_induced_angina</th>\n",
       "      <th>st_depression</th>\n",
       "      <th>st_slope</th>\n",
       "      <th>num_major_vessels</th>\n",
       "      <th>thalassemia</th>\n",
       "      <th>target</th>\n",
       "    </tr>\n",
       "  </thead>\n",
       "  <tbody>\n",
       "    <tr>\n",
       "      <th>0</th>\n",
       "      <td>63</td>\n",
       "      <td>1</td>\n",
       "      <td>3</td>\n",
       "      <td>145</td>\n",
       "      <td>233</td>\n",
       "      <td>1</td>\n",
       "      <td>0</td>\n",
       "      <td>150</td>\n",
       "      <td>0</td>\n",
       "      <td>2.3</td>\n",
       "      <td>0</td>\n",
       "      <td>0</td>\n",
       "      <td>1</td>\n",
       "      <td>1</td>\n",
       "    </tr>\n",
       "    <tr>\n",
       "      <th>1</th>\n",
       "      <td>37</td>\n",
       "      <td>1</td>\n",
       "      <td>2</td>\n",
       "      <td>130</td>\n",
       "      <td>250</td>\n",
       "      <td>0</td>\n",
       "      <td>1</td>\n",
       "      <td>187</td>\n",
       "      <td>0</td>\n",
       "      <td>3.5</td>\n",
       "      <td>0</td>\n",
       "      <td>0</td>\n",
       "      <td>2</td>\n",
       "      <td>1</td>\n",
       "    </tr>\n",
       "    <tr>\n",
       "      <th>2</th>\n",
       "      <td>41</td>\n",
       "      <td>0</td>\n",
       "      <td>1</td>\n",
       "      <td>130</td>\n",
       "      <td>204</td>\n",
       "      <td>0</td>\n",
       "      <td>0</td>\n",
       "      <td>172</td>\n",
       "      <td>0</td>\n",
       "      <td>1.4</td>\n",
       "      <td>2</td>\n",
       "      <td>0</td>\n",
       "      <td>2</td>\n",
       "      <td>1</td>\n",
       "    </tr>\n",
       "    <tr>\n",
       "      <th>3</th>\n",
       "      <td>56</td>\n",
       "      <td>1</td>\n",
       "      <td>1</td>\n",
       "      <td>120</td>\n",
       "      <td>236</td>\n",
       "      <td>0</td>\n",
       "      <td>1</td>\n",
       "      <td>178</td>\n",
       "      <td>0</td>\n",
       "      <td>0.8</td>\n",
       "      <td>2</td>\n",
       "      <td>0</td>\n",
       "      <td>2</td>\n",
       "      <td>1</td>\n",
       "    </tr>\n",
       "    <tr>\n",
       "      <th>4</th>\n",
       "      <td>57</td>\n",
       "      <td>0</td>\n",
       "      <td>0</td>\n",
       "      <td>120</td>\n",
       "      <td>354</td>\n",
       "      <td>0</td>\n",
       "      <td>1</td>\n",
       "      <td>163</td>\n",
       "      <td>1</td>\n",
       "      <td>0.6</td>\n",
       "      <td>2</td>\n",
       "      <td>0</td>\n",
       "      <td>2</td>\n",
       "      <td>1</td>\n",
       "    </tr>\n",
       "  </tbody>\n",
       "</table>\n",
       "</div>"
      ],
      "text/plain": [
       "   age  sex  chest_pain_type  resting_blood_pressure  cholesterol  \\\n",
       "0   63    1                3                     145          233   \n",
       "1   37    1                2                     130          250   \n",
       "2   41    0                1                     130          204   \n",
       "3   56    1                1                     120          236   \n",
       "4   57    0                0                     120          354   \n",
       "\n",
       "   fasting_blood_sugar  rest_ecg  max_heart_rate_achieved  \\\n",
       "0                    1         0                      150   \n",
       "1                    0         1                      187   \n",
       "2                    0         0                      172   \n",
       "3                    0         1                      178   \n",
       "4                    0         1                      163   \n",
       "\n",
       "   exercise_induced_angina  st_depression  st_slope  num_major_vessels  \\\n",
       "0                        0            2.3         0                  0   \n",
       "1                        0            3.5         0                  0   \n",
       "2                        0            1.4         2                  0   \n",
       "3                        0            0.8         2                  0   \n",
       "4                        1            0.6         2                  0   \n",
       "\n",
       "   thalassemia  target  \n",
       "0            1       1  \n",
       "1            2       1  \n",
       "2            2       1  \n",
       "3            2       1  \n",
       "4            2       1  "
      ]
     },
     "execution_count": 71,
     "metadata": {},
     "output_type": "execute_result"
    }
   ],
   "source": [
    "data = pd.read_csv('./heart_disease_dataset.csv', sep=';')\n",
    "\n",
    "df=data.copy()\n",
    "\n",
    "df.head()"
   ]
  },
  {
   "cell_type": "code",
   "execution_count": 72,
   "id": "293bab46",
   "metadata": {
    "scrolled": true
   },
   "outputs": [
    {
     "data": {
      "text/plain": [
       "age                        0\n",
       "sex                        0\n",
       "chest_pain_type            0\n",
       "resting_blood_pressure     0\n",
       "cholesterol                0\n",
       "fasting_blood_sugar        0\n",
       "rest_ecg                   0\n",
       "max_heart_rate_achieved    0\n",
       "exercise_induced_angina    0\n",
       "st_depression              0\n",
       "st_slope                   0\n",
       "num_major_vessels          0\n",
       "thalassemia                0\n",
       "target                     0\n",
       "dtype: int64"
      ]
     },
     "execution_count": 72,
     "metadata": {},
     "output_type": "execute_result"
    }
   ],
   "source": [
    "df.isnull().sum()"
   ]
  },
  {
   "cell_type": "code",
   "execution_count": 73,
   "id": "a76eacac",
   "metadata": {},
   "outputs": [
    {
     "data": {
      "text/plain": [
       "age                       -0.225439\n",
       "sex                       -0.280937\n",
       "chest_pain_type            0.433798\n",
       "resting_blood_pressure    -0.144931\n",
       "cholesterol               -0.085239\n",
       "fasting_blood_sugar       -0.028046\n",
       "rest_ecg                   0.137230\n",
       "max_heart_rate_achieved    0.421741\n",
       "exercise_induced_angina   -0.436757\n",
       "st_depression             -0.430696\n",
       "st_slope                   0.345877\n",
       "num_major_vessels         -0.391724\n",
       "thalassemia               -0.344029\n",
       "target                     1.000000\n",
       "Name: target, dtype: float64"
      ]
     },
     "execution_count": 73,
     "metadata": {},
     "output_type": "execute_result"
    }
   ],
   "source": [
    "df.corr()['target']"
   ]
  },
  {
   "cell_type": "code",
   "execution_count": 74,
   "id": "ae87d388",
   "metadata": {},
   "outputs": [
    {
     "data": {
      "text/plain": [
       "<AxesSubplot:>"
      ]
     },
     "execution_count": 74,
     "metadata": {},
     "output_type": "execute_result"
    },
    {
     "data": {
      "image/png": "[encoded data removed]",
      "text/plain": [
       "<Figure size 720x576 with 2 Axes>"
      ]
     },
     "metadata": {
      "needs_background": "light"
     },
     "output_type": "display_data"
    }
   ],
   "source": [
    "plt.figure(figsize=(10,8))\n",
    "\n",
    "sns.heatmap(df.corr()[['target']].sort_values(by='target'), annot=True)"
   ]
  },
  {
   "cell_type": "code",
   "execution_count": 59,
   "id": "cec181f3",
   "metadata": {},
   "outputs": [
    {
     "data": {
      "text/html": [
       "<div>\n",
       "<style scoped>\n",
       "    .dataframe tbody tr th:only-of-type {\n",
       "        vertical-align: middle;\n",
       "    }\n",
       "\n",
       "    .dataframe tbody tr th {\n",
       "        vertical-align: top;\n",
       "    }\n",
       "\n",
       "    .dataframe thead th {\n",
       "        text-align: right;\n",
       "    }\n",
       "</style>\n",
       "<table border=\"1\" class=\"dataframe\">\n",
       "  <thead>\n",
       "    <tr style=\"text-align: right;\">\n",
       "      <th></th>\n",
       "      <th>age</th>\n",
       "      <th>sex</th>\n",
       "      <th>chest_pain_type</th>\n",
       "      <th>resting_blood_pressure</th>\n",
       "      <th>cholesterol</th>\n",
       "      <th>fasting_blood_sugar</th>\n",
       "      <th>rest_ecg</th>\n",
       "      <th>max_heart_rate_achieved</th>\n",
       "      <th>exercise_induced_angina</th>\n",
       "      <th>st_depression</th>\n",
       "      <th>st_slope</th>\n",
       "      <th>num_major_vessels</th>\n",
       "      <th>thalassemia</th>\n",
       "      <th>target</th>\n",
       "    </tr>\n",
       "  </thead>\n",
       "  <tbody>\n",
       "    <tr>\n",
       "      <th>0</th>\n",
       "      <td>63</td>\n",
       "      <td>1</td>\n",
       "      <td>3</td>\n",
       "      <td>145</td>\n",
       "      <td>233</td>\n",
       "      <td>1</td>\n",
       "      <td>0</td>\n",
       "      <td>150</td>\n",
       "      <td>0</td>\n",
       "      <td>2.3</td>\n",
       "      <td>0</td>\n",
       "      <td>0</td>\n",
       "      <td>1</td>\n",
       "      <td>1</td>\n",
       "    </tr>\n",
       "    <tr>\n",
       "      <th>1</th>\n",
       "      <td>37</td>\n",
       "      <td>1</td>\n",
       "      <td>2</td>\n",
       "      <td>130</td>\n",
       "      <td>250</td>\n",
       "      <td>0</td>\n",
       "      <td>1</td>\n",
       "      <td>187</td>\n",
       "      <td>0</td>\n",
       "      <td>3.5</td>\n",
       "      <td>0</td>\n",
       "      <td>0</td>\n",
       "      <td>2</td>\n",
       "      <td>1</td>\n",
       "    </tr>\n",
       "    <tr>\n",
       "      <th>2</th>\n",
       "      <td>41</td>\n",
       "      <td>0</td>\n",
       "      <td>1</td>\n",
       "      <td>130</td>\n",
       "      <td>204</td>\n",
       "      <td>0</td>\n",
       "      <td>0</td>\n",
       "      <td>172</td>\n",
       "      <td>0</td>\n",
       "      <td>1.4</td>\n",
       "      <td>2</td>\n",
       "      <td>0</td>\n",
       "      <td>2</td>\n",
       "      <td>1</td>\n",
       "    </tr>\n",
       "    <tr>\n",
       "      <th>3</th>\n",
       "      <td>56</td>\n",
       "      <td>1</td>\n",
       "      <td>1</td>\n",
       "      <td>120</td>\n",
       "      <td>236</td>\n",
       "      <td>0</td>\n",
       "      <td>1</td>\n",
       "      <td>178</td>\n",
       "      <td>0</td>\n",
       "      <td>0.8</td>\n",
       "      <td>2</td>\n",
       "      <td>0</td>\n",
       "      <td>2</td>\n",
       "      <td>1</td>\n",
       "    </tr>\n",
       "    <tr>\n",
       "      <th>4</th>\n",
       "      <td>57</td>\n",
       "      <td>0</td>\n",
       "      <td>0</td>\n",
       "      <td>120</td>\n",
       "      <td>354</td>\n",
       "      <td>0</td>\n",
       "      <td>1</td>\n",
       "      <td>163</td>\n",
       "      <td>1</td>\n",
       "      <td>0.6</td>\n",
       "      <td>2</td>\n",
       "      <td>0</td>\n",
       "      <td>2</td>\n",
       "      <td>1</td>\n",
       "    </tr>\n",
       "  </tbody>\n",
       "</table>\n",
       "</div>"
      ],
      "text/plain": [
       "   age  sex  chest_pain_type  resting_blood_pressure  cholesterol  \\\n",
       "0   63    1                3                     145          233   \n",
       "1   37    1                2                     130          250   \n",
       "2   41    0                1                     130          204   \n",
       "3   56    1                1                     120          236   \n",
       "4   57    0                0                     120          354   \n",
       "\n",
       "   fasting_blood_sugar  rest_ecg  max_heart_rate_achieved  \\\n",
       "0                    1         0                      150   \n",
       "1                    0         1                      187   \n",
       "2                    0         0                      172   \n",
       "3                    0         1                      178   \n",
       "4                    0         1                      163   \n",
       "\n",
       "   exercise_induced_angina  st_depression  st_slope  num_major_vessels  \\\n",
       "0                        0            2.3         0                  0   \n",
       "1                        0            3.5         0                  0   \n",
       "2                        0            1.4         2                  0   \n",
       "3                        0            0.8         2                  0   \n",
       "4                        1            0.6         2                  0   \n",
       "\n",
       "   thalassemia  target  \n",
       "0            1       1  \n",
       "1            2       1  \n",
       "2            2       1  \n",
       "3            2       1  \n",
       "4            2       1  "
      ]
     },
     "execution_count": 59,
     "metadata": {},
     "output_type": "execute_result"
    }
   ],
   "source": [
    "df.head()"
   ]
  },
  {
   "cell_type": "code",
   "execution_count": 101,
   "id": "9753c257",
   "metadata": {},
   "outputs": [
    {
     "data": {
      "text/plain": [
       "<AxesSubplot:xlabel='target', ylabel='count'>"
      ]
     },
     "execution_count": 101,
     "metadata": {},
     "output_type": "execute_result"
    },
    {
     "data": {
      "image/png": "[encoded data removed]",
      "text/plain": [
       "<Figure size 432x288 with 1 Axes>"
      ]
     },
     "metadata": {
      "needs_background": "light"
     },
     "output_type": "display_data"
    }
   ],
   "source": [
    "sns.countplot(data=df, x = 'target')"
   ]
  },
  {
   "cell_type": "code",
   "execution_count": 75,
   "id": "d022580d",
   "metadata": {},
   "outputs": [],
   "source": [
    "X=df.drop('target', axis=1)\n",
    "\n",
    "y = df.target.to_numpy().reshape([-1,1])"
   ]
  },
  {
   "cell_type": "code",
   "execution_count": 76,
   "id": "498a67b7",
   "metadata": {},
   "outputs": [
    {
     "data": {
      "text/plain": [
       "((303, 13), (303, 1))"
      ]
     },
     "execution_count": 76,
     "metadata": {},
     "output_type": "execute_result"
    }
   ],
   "source": [
    "X.shape, y.shape"
   ]
  },
  {
   "cell_type": "code",
   "execution_count": 19,
   "id": "1bf96efe",
   "metadata": {},
   "outputs": [],
   "source": [
    "from sklearn.preprocessing import StandardScaler"
   ]
  },
  {
   "cell_type": "code",
   "execution_count": 77,
   "id": "3a9b8639",
   "metadata": {},
   "outputs": [],
   "source": [
    "scaler = StandardScaler()"
   ]
  },
  {
   "cell_type": "code",
   "execution_count": 78,
   "id": "d5b97214",
   "metadata": {},
   "outputs": [],
   "source": [
    "X = scaler.fit_transform(X)"
   ]
  },
  {
   "cell_type": "code",
   "execution_count": 79,
   "id": "3ca8bde0",
   "metadata": {},
   "outputs": [],
   "source": [
    "from sklearn.model_selection import train_test_split"
   ]
  },
  {
   "cell_type": "code",
   "execution_count": 80,
   "id": "970bc081",
   "metadata": {},
   "outputs": [],
   "source": [
    "X_train, X_test, y_train, y_test = train_test_split(X, y, test_size=0.2, stratify=y,random_state=101)"
   ]
  },
  {
   "cell_type": "code",
   "execution_count": 81,
   "id": "4716b294",
   "metadata": {},
   "outputs": [
    {
     "name": "stdout",
     "output_type": "stream",
     "text": [
      "(242, 13)\n",
      "(61, 13)\n",
      "(242, 1)\n",
      "(61, 1)\n"
     ]
    }
   ],
   "source": [
    "print(X_train.shape)\n",
    "print(X_test.shape)\n",
    "print(y_train.shape)\n",
    "print(y_test.shape)"
   ]
  },
  {
   "cell_type": "code",
   "execution_count": 82,
   "id": "f7eaf03d",
   "metadata": {},
   "outputs": [],
   "source": [
    "import torch  # tensor operaations\n",
    "import torch.nn as nn # creating our architecture\n",
    "import torch.nn.functional as F # easy collable functions\n",
    "import torch.optim as optim # optimisation functions\n",
    "from torch.utils.data import DataLoader # creating a data loader\n",
    "from torch.utils.data import TensorDataset # creating a tensor dataset"
   ]
  },
  {
   "cell_type": "markdown",
   "id": "8994337e",
   "metadata": {},
   "source": [
    "## Converting arrays to tensors"
   ]
  },
  {
   "cell_type": "code",
   "execution_count": 83,
   "id": "01c5218b",
   "metadata": {},
   "outputs": [],
   "source": [
    "X_train= torch.from_numpy(X_train).float()\n",
    "y_train = torch.from_numpy(y_train).float()\n",
    "X_test = torch.from_numpy(X_test).float()\n",
    "y_test = torch.from_numpy(y_test).float()"
   ]
  },
  {
   "cell_type": "code",
   "execution_count": 84,
   "id": "60a4c39a",
   "metadata": {},
   "outputs": [],
   "source": [
    "## Next we are creating train-test datasets\n",
    "\n",
    "train_dataset =TensorDataset(X_train, y_train)\n",
    "test_dataset =TensorDataset(X_test, y_test)"
   ]
  },
  {
   "cell_type": "code",
   "execution_count": 85,
   "id": "727c3dca",
   "metadata": {},
   "outputs": [],
   "source": [
    "## Creating data loaders for train_test datasets separately\n",
    "\n",
    "train_loader =DataLoader(train_dataset,batch_size=50,shuffle=True)\n",
    "test_loader =DataLoader(test_dataset,shuffle=True)"
   ]
  },
  {
   "cell_type": "code",
   "execution_count": 89,
   "id": "3c4c8788",
   "metadata": {},
   "outputs": [],
   "source": [
    "## Defining model architecture\n",
    "\n",
    "class Model(nn.Module):\n",
    "    def __init__(self):\n",
    "        super(Model,self).__init__()\n",
    "        \n",
    "        self.fc1 = nn.Linear(13,50) ## 13 is a feature number; 13 features are going into 10 neurons\n",
    "        self.out = nn.Linear(50,1) ## The result that came out of those 10 neurons combines into one output\n",
    "\n",
    "    def forward(self,X):\n",
    "        X = F.relu(self.fc1(X))\n",
    "        X = self.out(X)\n",
    "        return X\n",
    "    "
   ]
  },
  {
   "cell_type": "code",
   "execution_count": 90,
   "id": "64b0ba39",
   "metadata": {},
   "outputs": [],
   "source": [
    "model = Model()"
   ]
  },
  {
   "cell_type": "code",
   "execution_count": 91,
   "id": "c076428e",
   "metadata": {},
   "outputs": [],
   "source": [
    "def get_n_params(model):\n",
    "    pp=0\n",
    "    for p in list(model.parameters()):\n",
    "        nn=1\n",
    "        for s in list(p.size()):\n",
    "            nn = nn*s\n",
    "        pp += nn\n",
    "    return pp"
   ]
  },
  {
   "cell_type": "code",
   "execution_count": 92,
   "id": "4896133e",
   "metadata": {},
   "outputs": [
    {
     "data": {
      "text/plain": [
       "751"
      ]
     },
     "execution_count": 92,
     "metadata": {},
     "output_type": "execute_result"
    }
   ],
   "source": [
    "get_n_params(model)"
   ]
  },
  {
   "cell_type": "code",
   "execution_count": 93,
   "id": "3d234e13",
   "metadata": {},
   "outputs": [],
   "source": [
    "num_epochs = 50\n",
    "lr_rate = 0.03\n",
    "criterion = nn.BCEWithLogitsLoss()\n",
    "optimizer = optim.SGD(model.parameters(),lr=lr_rate)"
   ]
  },
  {
   "cell_type": "code",
   "execution_count": 94,
   "id": "8bc4b218",
   "metadata": {},
   "outputs": [],
   "source": [
    "def binary_acc(y_pred,y_test):\n",
    "    y_pred_tag = torch.round(torch.sigmoid(y_pred)) ## turns all values above 0.5 to 1 and below 0.5 to 0\n",
    "    \n",
    "    correct_results_sum = (y_pred_tag==y_test).sum().float()\n",
    "    acc = correct_results_sum/y_test.shape[0]\n",
    "    acc = torch.round(acc*100)\n",
    "    return acc"
   ]
  },
  {
   "cell_type": "code",
   "execution_count": 95,
   "id": "10dc9e66",
   "metadata": {},
   "outputs": [
    {
     "name": "stdout",
     "output_type": "stream",
     "text": [
      "Epoch: 001: |Loss:0.72697|Acc: 38.800\n",
      "Epoch: 002: |Loss:0.69889|Acc: 49.600\n",
      "Epoch: 003: |Loss:0.67419|Acc: 63.000\n",
      "Epoch: 004: |Loss:0.65425|Acc: 69.800\n",
      "Epoch: 005: |Loss:0.63348|Acc: 73.400\n",
      "Epoch: 006: |Loss:0.61496|Acc: 75.800\n",
      "Epoch: 007: |Loss:0.59863|Acc: 78.000\n",
      "Epoch: 008: |Loss:0.58333|Acc: 77.600\n",
      "Epoch: 009: |Loss:0.56868|Acc: 76.800\n",
      "Epoch: 010: |Loss:0.55520|Acc: 77.400\n",
      "Epoch: 011: |Loss:0.54234|Acc: 77.800\n",
      "Epoch: 012: |Loss:0.53100|Acc: 77.400\n",
      "Epoch: 013: |Loss:0.51930|Acc: 77.800\n",
      "Epoch: 014: |Loss:0.50681|Acc: 79.800\n",
      "Epoch: 015: |Loss:0.49765|Acc: 80.200\n",
      "Epoch: 016: |Loss:0.49056|Acc: 80.200\n",
      "Epoch: 017: |Loss:0.48028|Acc: 80.200\n",
      "Epoch: 018: |Loss:0.47306|Acc: 80.200\n",
      "Epoch: 019: |Loss:0.46395|Acc: 80.400\n",
      "Epoch: 020: |Loss:0.45721|Acc: 80.800\n",
      "Epoch: 021: |Loss:0.45286|Acc: 80.400\n",
      "Epoch: 022: |Loss:0.44272|Acc: 80.800\n",
      "Epoch: 023: |Loss:0.43637|Acc: 81.000\n",
      "Epoch: 024: |Loss:0.43425|Acc: 80.600\n",
      "Epoch: 025: |Loss:0.42793|Acc: 81.000\n",
      "Epoch: 026: |Loss:0.42245|Acc: 81.000\n",
      "Epoch: 027: |Loss:0.41764|Acc: 81.400\n",
      "Epoch: 028: |Loss:0.41272|Acc: 81.400\n",
      "Epoch: 029: |Loss:0.41005|Acc: 81.400\n",
      "Epoch: 030: |Loss:0.40650|Acc: 81.400\n",
      "Epoch: 031: |Loss:0.40390|Acc: 81.600\n",
      "Epoch: 032: |Loss:0.39928|Acc: 81.600\n",
      "Epoch: 033: |Loss:0.39692|Acc: 82.000\n",
      "Epoch: 034: |Loss:0.39379|Acc: 82.400\n",
      "Epoch: 035: |Loss:0.38988|Acc: 82.400\n",
      "Epoch: 036: |Loss:0.38549|Acc: 82.800\n",
      "Epoch: 037: |Loss:0.38406|Acc: 82.800\n",
      "Epoch: 038: |Loss:0.37947|Acc: 83.200\n",
      "Epoch: 039: |Loss:0.37900|Acc: 83.000\n",
      "Epoch: 040: |Loss:0.37797|Acc: 83.000\n",
      "Epoch: 041: |Loss:0.37532|Acc: 83.000\n",
      "Epoch: 042: |Loss:0.37072|Acc: 83.200\n",
      "Epoch: 043: |Loss:0.36701|Acc: 83.400\n",
      "Epoch: 044: |Loss:0.36733|Acc: 83.600\n",
      "Epoch: 045: |Loss:0.36747|Acc: 83.200\n",
      "Epoch: 046: |Loss:0.36164|Acc: 83.600\n",
      "Epoch: 047: |Loss:0.35889|Acc: 84.000\n",
      "Epoch: 048: |Loss:0.35999|Acc: 84.000\n",
      "Epoch: 049: |Loss:0.35868|Acc: 84.000\n",
      "Epoch: 050: |Loss:0.35644|Acc: 84.000\n"
     ]
    }
   ],
   "source": [
    "model.train()\n",
    "for e in range(1,num_epochs+1):\n",
    "    epoch_loss = 0 ## to keep track of total loss for current epoch\n",
    "    epoch_acc = 0 ## to keep track of total acc for current epoch\n",
    "    for X_batch,y_batch in train_loader:\n",
    "        optimizer.zero_grad() ## to start fresh with each batch\n",
    "        y_pred = model(X_batch)\n",
    "        \n",
    "        loss = criterion(y_pred.flatten(),y_batch.flatten().float())\n",
    "        acc = binary_acc(y_pred.flatten(),y_batch.flatten().float())\n",
    "        \n",
    "        loss.backward()\n",
    "        optimizer.step()\n",
    "        \n",
    "        epoch_loss += loss.item()\n",
    "        epoch_acc += acc.item()\n",
    "        \n",
    "    print(f'Epoch: {e+0:03}: |Loss:{epoch_loss/len(train_loader):.5f}|Acc: {epoch_acc/len(train_loader):.3f}')"
   ]
  },
  {
   "cell_type": "markdown",
   "id": "8cc449ec",
   "metadata": {},
   "source": [
    "## Testing the model"
   ]
  },
  {
   "cell_type": "code",
   "execution_count": 96,
   "id": "3c11a4c9",
   "metadata": {},
   "outputs": [],
   "source": [
    "y_pred_list = []\n",
    "\n",
    "model.eval()\n",
    "\n",
    "with torch.no_grad():\n",
    "    for X_batch, y_batch in test_loader:\n",
    "        torch.no_grad()\n",
    "        y_test_pred = model(X_batch)\n",
    "        y_test_pred = torch.sigmoid(y_test_pred)\n",
    "        y_pred_tag = torch.round(y_test_pred)\n",
    "        y_pred_list.append(y_pred_tag.numpy())\n",
    "y_pred_list = [a.squeeze().tolist() for  a in  y_pred_list]"
   ]
  },
  {
   "cell_type": "markdown",
   "id": "9c6c138f",
   "metadata": {},
   "source": [
    "## Evaluating the model"
   ]
  },
  {
   "cell_type": "code",
   "execution_count": 98,
   "id": "ae3062e0",
   "metadata": {},
   "outputs": [],
   "source": [
    "from sklearn.metrics import confusion_matrix, classification_report"
   ]
  },
  {
   "cell_type": "code",
   "execution_count": 99,
   "id": "a14e5790",
   "metadata": {},
   "outputs": [
    {
     "data": {
      "text/plain": [
       "array([[15, 13],\n",
       "       [15, 18]], dtype=int64)"
      ]
     },
     "execution_count": 99,
     "metadata": {},
     "output_type": "execute_result"
    }
   ],
   "source": [
    "confusion_matrix(y_test, y_pred_list)"
   ]
  },
  {
   "cell_type": "code",
   "execution_count": 100,
   "id": "f9318d06",
   "metadata": {
    "scrolled": false
   },
   "outputs": [
    {
     "name": "stdout",
     "output_type": "stream",
     "text": [
      "              precision    recall  f1-score   support\n",
      "\n",
      "         0.0       0.50      0.54      0.52        28\n",
      "         1.0       0.58      0.55      0.56        33\n",
      "\n",
      "    accuracy                           0.54        61\n",
      "   macro avg       0.54      0.54      0.54        61\n",
      "weighted avg       0.54      0.54      0.54        61\n",
      "\n"
     ]
    }
   ],
   "source": [
    "print(classification_report(y_test, y_pred_list))"
   ]
  },
  {
   "cell_type": "markdown",
   "id": "6a668a37",
   "metadata": {},
   "source": [
    "## Saving the model_w9_hw"
   ]
  },
  {
   "cell_type": "code",
   "execution_count": 104,
   "id": "c19298c0",
   "metadata": {},
   "outputs": [
    {
     "name": "stdout",
     "output_type": "stream",
     "text": [
      "Saved PyTorch Model State to model_w9_hw.pth\n"
     ]
    }
   ],
   "source": [
    "torch.save(model.state_dict(), 'model_w9_hw.pth')\n",
    "print(\"Saved PyTorch Model State to model_w9_hw.pth\")"
   ]
  },
  {
   "cell_type": "markdown",
   "id": "971b5e66",
   "metadata": {},
   "source": [
    "## Loading the model_w9_hw"
   ]
  },
  {
   "cell_type": "code",
   "execution_count": 105,
   "id": "9a67065b",
   "metadata": {},
   "outputs": [
    {
     "data": {
      "text/plain": [
       "<All keys matched successfully>"
      ]
     },
     "execution_count": 105,
     "metadata": {},
     "output_type": "execute_result"
    }
   ],
   "source": [
    "model = Model()\n",
    "\n",
    "model.load_state_dict(torch.load('model_w9_hw.pth'))"
   ]
  },
  {
   "cell_type": "code",
   "execution_count": null,
   "id": "16b1f07c",
   "metadata": {},
   "outputs": [],
   "source": []
  }
 ],
 "metadata": {
  "kernelspec": {
   "display_name": "Python 3 (ipykernel)",
   "language": "python",
   "name": "python3"
  },
  "language_info": {
   "codemirror_mode": {
    "name": "ipython",
    "version": 3
   },
   "file_extension": ".py",
   "mimetype": "text/x-python",
   "name": "python",
   "nbconvert_exporter": "python",
   "pygments_lexer": "ipython3",
   "version": "3.9.12"
  }
 },
 "nbformat": 4,
 "nbformat_minor": 5
}
